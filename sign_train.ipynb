{
  "cells": [
    {
      "cell_type": "code",
      "execution_count": 9,
      "metadata": {
        "colab": {
          "base_uri": "https://localhost:8080/"
        },
        "id": "Xsii8tYIcTm0",
        "outputId": "293356e4-b92a-4c47-db90-a52f5c1c69ba"
      },
      "outputs": [],
      "source": [
        "# from google.colab import drive\n",
        "# drive.mount(\"/content/drive/\", force_remount=True)"
      ]
    },
    {
      "cell_type": "code",
      "execution_count": 10,
      "metadata": {
        "id": "ZQMNXmQQftrm"
      },
      "outputs": [],
      "source": [
        "# import zipfile\n",
        "\n",
        "# with zipfile.ZipFile(\"./drive/MyDrive/data.zip\") as f:\n",
        "#   f.extractall(\"\")"
      ]
    },
    {
      "cell_type": "code",
      "execution_count": 11,
      "metadata": {
        "colab": {
          "base_uri": "https://localhost:8080/"
        },
        "id": "nJB-zUx9f4zT",
        "outputId": "a0a119de-1709-4b30-ff90-e2fee981c1bf"
      },
      "outputs": [
        {
          "name": "stdout",
          "output_type": "stream",
          "text": [
            "182000\n",
            "['A', 'B', 'C', 'D', 'E', 'F', 'G', 'H', 'I', 'J', 'K', 'L', 'M', 'N', 'O', 'P', 'Q', 'R', 'S', 'T', 'U', 'V', 'W', 'X', 'Y', 'Z']\n",
            "torch.Size([3, 128, 128])\n"
          ]
        }
      ],
      "source": [
        "from torchvision.datasets import ImageFolder\n",
        "from torchvision.transforms import ToTensor,Resize,Compose\n",
        "from torch.utils.data.dataloader import DataLoader\n",
        "\n",
        "root = \"../data/\"\n",
        "BATCH_SIZE = 100\n",
        "\n",
        "train_ds = ImageFolder(root+\"train\", Compose([Resize(128),ToTensor()]))\n",
        "train_dl = DataLoader(train_ds, BATCH_SIZE, shuffle=True, pin_memory=True)\n",
        "\n",
        "val_ds = ImageFolder(root+\"val\", Compose([Resize(128),ToTensor()]))\n",
        "val_dl = DataLoader(val_ds, 49, pin_memory=True)\n",
        "\n",
        "print(len(train_ds))\n",
        "img_cls = train_ds.classes\n",
        "\n",
        "CLS_SIZE = len(img_cls)\n",
        "\n",
        "print(img_cls)\n",
        "print(train_ds[0][0].shape)"
      ]
    },
    {
      "cell_type": "code",
      "execution_count": 12,
      "metadata": {
        "colab": {
          "base_uri": "https://localhost:8080/"
        },
        "id": "Acrledw1gNe4",
        "outputId": "b9261ba6-6a11-4677-9aeb-cbfcf2442536"
      },
      "outputs": [
        {
          "name": "stdout",
          "output_type": "stream",
          "text": [
            "cpu\n"
          ]
        }
      ],
      "source": [
        "import torch\n",
        "\n",
        "device = torch.device(\"cuda\" if torch.cuda.is_available() else \"cpu\")\n",
        "print(device)\n",
        "\n",
        "torch.cuda.empty_cache()"
      ]
    },
    {
      "cell_type": "code",
      "execution_count": 13,
      "metadata": {
        "id": "mxud0D_DgOyq"
      },
      "outputs": [],
      "source": [
        "import torch.nn as nn\n",
        "\n",
        "\n",
        "class Model(nn.Module):\n",
        "    def __init__(self):\n",
        "        super().__init__()\n",
        "\n",
        "        self.network = nn.Sequential(\n",
        "            # 3 128\n",
        "            nn.Conv2d(3, 32, kernel_size=3, stride=1, padding=1),\n",
        "            nn.ReLU(),\n",
        "            nn.MaxPool2d(2, 2),\n",
        "            # 32 64\n",
        "            nn.Conv2d(32, 64, kernel_size=3, stride=1, padding=1),\n",
        "            nn.MaxPool2d(2, 2),\n",
        "            # 64 32\n",
        "            nn.Conv2d(64, 128, kernel_size=3, stride=1, padding=1),\n",
        "            nn.ReLU(),\n",
        "            nn.MaxPool2d(2, 2),\n",
        "            # 128 16\n",
        "            nn.Conv2d(128, 128, kernel_size=3, stride=1, padding=1),\n",
        "            nn.MaxPool2d(2, 2),\n",
        "            # 128 8\n",
        "            nn.Conv2d(128, 256, kernel_size=3, stride=1, padding=1),\n",
        "            nn.ReLU(),\n",
        "            nn.MaxPool2d(2, 2),\n",
        "\n",
        "            # 256 4\n",
        "            nn.Conv2d(256, 256, kernel_size=3, stride=1, padding=1),\n",
        "            nn.MaxPool2d(2, 2),\n",
        "            # 256 2\n",
        "\n",
        "            nn.Flatten(),\n",
        "            # 256*2*2\n",
        "            nn.Linear(256 * 2 * 2, 128),\n",
        "            nn.ReLU(),\n",
        "            # 128\n",
        "            nn.Linear(128, 26)\n",
        "            # 26\n",
        "        )\n",
        "\n",
        "    def forward(self, inputs):\n",
        "\n",
        "        out = self.network(inputs)\n",
        "        return torch.softmax(out, dim=-1)"
      ]
    },
    {
      "cell_type": "code",
      "execution_count": 14,
      "metadata": {
        "id": "A0P2GPRAgSIo"
      },
      "outputs": [],
      "source": [
        "sign_model = Model().to(device)\n",
        "loss_fn = nn.BCELoss()\n",
        "opt = torch.optim.Adam(sign_model.parameters(),lr=0.001)"
      ]
    },
    {
      "cell_type": "code",
      "execution_count": 15,
      "metadata": {},
      "outputs": [
        {
          "name": "stdout",
          "output_type": "stream",
          "text": [
            "Model Loaded(CPU)\n"
          ]
        }
      ],
      "source": [
        "path = \"./eyensign/static/sign_model97.pth\"\n",
        "try:\n",
        "    if torch.cuda.is_available():\n",
        "        sign_model.load_state_dict(torch.load(path))\n",
        "        print(\"Model Loaded(GPU)\")\n",
        "    else:\n",
        "        sign_model.load_state_dict(torch.load(path,map_location=torch.device(\"cpu\")))\n",
        "        print(\"Model Loaded(CPU)\")\n",
        "except Exception as e:\n",
        "    pass"
      ]
    },
    {
      "cell_type": "code",
      "execution_count": 16,
      "metadata": {
        "colab": {
          "base_uri": "https://localhost:8080/"
        },
        "id": "DAJscFM8gVtb",
        "outputId": "deb1ae47-2fc0-454e-d0ad-1d5ea1dbe827"
      },
      "outputs": [
        {
          "name": "stdout",
          "output_type": "stream",
          "text": [
            "Epoch:  1\n",
            "Accuracy:  97.096\n",
            "\n"
          ]
        }
      ],
      "source": [
        "def fit(epochs):\n",
        "    acc_max = 0\n",
        "    for epoch in range(epochs):\n",
        "        print(\"Epoch: \",epoch+1)\n",
        "        # x = 0\n",
        "        # for images,labels in train_dl:\n",
        "        #     x += 1\n",
        "        #     preds = sign_model(images.to(device))\n",
        "\n",
        "        #     targets = torch.zeros(BATCH_SIZE,CLS_SIZE, dtype=torch.float32)\n",
        "            \n",
        "        #     for i in range(BATCH_SIZE):\n",
        "        #         targets[i,labels[i]]=1\n",
        "\n",
        "        #     loss = loss_fn(preds.to(device), targets.to(device))\n",
        "        #     loss.backward()\n",
        "            \n",
        "        #     opt.step()\n",
        "        #     opt.zero_grad()\n",
        "\n",
        "        #     if x%182 == 0:\n",
        "        #         print(x,\"/\",len(train_dl))\n",
        "        #         print(\"Loss: \",round(loss.item(),6))\n",
        "        \n",
        "        with torch.no_grad():\n",
        "            correct = 0\n",
        "            for images,labels in val_dl:\n",
        "                preds = sign_model(images.to(device))\n",
        "                for i in range(len(preds)):\n",
        "                    if (preds[i].max()==preds[i][labels[i].item()]):\n",
        "                        correct += 1\n",
        "            \n",
        "            acc = correct/len(val_ds)\n",
        "            print(\"Accuracy: \",round(acc*100,3))\n",
        "            print(\"\")\n",
        "\n",
        "\n",
        "fit(1)"
      ]
    }
  ],
  "metadata": {
    "accelerator": "GPU",
    "colab": {
      "name": "sign.ipynb",
      "provenance": []
    },
    "kernelspec": {
      "display_name": "Python 3.8.10 64-bit",
      "language": "python",
      "name": "python3"
    },
    "language_info": {
      "codemirror_mode": {
        "name": "ipython",
        "version": 3
      },
      "file_extension": ".py",
      "mimetype": "text/x-python",
      "name": "python",
      "nbconvert_exporter": "python",
      "pygments_lexer": "ipython3",
      "version": "3.8.10"
    },
    "vscode": {
      "interpreter": {
        "hash": "916dbcbb3f70747c44a77c7bcd40155683ae19c65e1c03b4aa3499c5328201f1"
      }
    }
  },
  "nbformat": 4,
  "nbformat_minor": 0
}
